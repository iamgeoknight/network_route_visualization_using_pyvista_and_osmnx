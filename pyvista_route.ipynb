{
 "cells": [
  {
   "cell_type": "code",
   "execution_count": 6,
   "metadata": {},
   "outputs": [],
   "source": [
    "import osmnx as ox\n",
    "import pyvista as pv\n",
    "import numpy as np\n",
    "import random, heapq\n",
    "from functools import lru_cache\n",
    "\n",
    "\n",
    "\n",
    "# Create a networkx graph from a place\n",
    "place = \"Chandigarh, India\"\n",
    "G = ox.graph_from_place(place, network_type=\"drive\")\n",
    "\n",
    "nodes, edges = ox.graph_to_gdfs(G)\n",
    "nodes['osmid'] = nodes.index"
   ]
  },
  {
   "cell_type": "code",
   "execution_count": 2,
   "metadata": {},
   "outputs": [],
   "source": [
    "def vistaLines(nodes, edges):\n",
    "    # nodes, edges = ox.graph_to_gdfs(G)\n",
    "    pts_list = edges['geometry'].apply(lambda g: np.column_stack(\n",
    "        (g.xy[0], g.xy[1], np.zeros(len(g.xy[0]))))).tolist()\n",
    "    vertices = np.concatenate(pts_list)\n",
    "\n",
    "    lines = []  # Create an empty array with 3 columns\n",
    "\n",
    "    j = 0\n",
    "\n",
    "    for i in range(len(pts_list)):\n",
    "        pts = pts_list[i]\n",
    "        vertex_length = len(pts)\n",
    "        vertext_start = j\n",
    "        vertex_end = j + vertex_length - 1\n",
    "        vertex_arr = [vertex_length] + list(range(vertext_start, vertex_end + 1))\n",
    "        lines.append(vertex_arr)\n",
    "        j += vertex_length\n",
    "    return pv.PolyData(vertices, lines = np.hstack(lines))"
   ]
  },
  {
   "cell_type": "code",
   "execution_count": null,
   "metadata": {},
   "outputs": [],
   "source": []
  },
  {
   "cell_type": "code",
   "execution_count": 3,
   "metadata": {},
   "outputs": [],
   "source": [
    "def get_start_goal_nodes():\n",
    "    global G\n",
    "    nodes = list(G.nodes)\n",
    "\n",
    "    # Use two random nodes as start and goal (you can replace them with specific nodes if you want)\n",
    "    start = random.choice(nodes)\n",
    "    goal = random.choice(nodes)\n",
    "\n",
    "    # Ensure start and goal nodes are not the same\n",
    "    while start == goal:\n",
    "        goal = random.choice(nodes)\n",
    "\n",
    "    return start, goal\n",
    "\n",
    "\n",
    "@lru_cache(maxsize=None)  # Add caching to the successors function\n",
    "def successors(node):\n",
    "    global G\n",
    "\n",
    "    # Find the neighbors of the current node\n",
    "    neighbors = list(G.neighbors(node))\n",
    "\n",
    "    # Calculate the edge weight and add it as a tuple (neighbor, weight)\n",
    "    successors = [(neighbor, G[node][neighbor][0]['length'])\n",
    "                  for neighbor in neighbors]\n",
    "\n",
    "    return successors\n",
    "\n",
    "\n",
    "@lru_cache(maxsize=None)  # Add caching to the great_circle_distance function\n",
    "def great_circle_distance(p1, p2):\n",
    "    global G\n",
    "    coord1 = G.nodes[p1]['y'], G.nodes[p1]['x']\n",
    "    coord2 = G.nodes[p2]['y'], G.nodes[p2]['x']\n",
    "    return ox.distance.great_circle(*coord1, *coord2)"
   ]
  },
  {
   "cell_type": "code",
   "execution_count": 10,
   "metadata": {},
   "outputs": [
    {
     "name": "stdout",
     "output_type": "stream",
     "text": [
      "3943344731, 1442627043\n",
      "Dijkstra Result:\n",
      "Path: [3943344731, 3943344736, 3943344733, 3943344725, 3943344720, 3942900280, 3942900278, 3943344741, 3942900285, 9605715511, 3942900289, 6330437150, 6330513513, 3265027384, 3265027378, 3265027381, 3945304147, 3265027382, 3265022006, 3945304145, 3265023701, 3786407360, 6241179047, 1428152725, 1428152768, 5526816883, 1428213232, 1428153101, 1428119507, 1428119514, 1428119535, 1428119552, 1428119726, 1428119728, 1428104715, 1428104723, 1428104737, 1428104751, 1428104755, 1428104860, 1428088294, 1428088304, 1428088326, 1428088349, 1428088514, 9754961619, 1427203404, 1427203415, 1427203431, 1427203447, 5522020001, 1427203588, 5526610543, 1427166100, 1427166106, 1427166126, 1427166153, 5526610530, 11066825453, 1428390906, 1426239641, 1426239651, 1426239710, 1426239780, 1426239838, 1426240174, 9907377471, 9870264822, 1426201220, 1426201248, 1426201288, 1426201345, 1426201836, 1425716612, 1425716619, 1425716630, 1425716644, 1425716665, 9700362866, 1425716717, 3896500081, 3896500083, 3896500092, 3896500096, 3896500095, 4008821786, 4008821992, 4008821993, 1442627043]\n",
      "Cost: 10085.484000000008\n",
      "\n"
     ]
    }
   ],
   "source": [
    "\n",
    "def dijkstra(start, goal):\n",
    "    # Initialize variables\n",
    "    # Distances from start to each node\n",
    "    distances = {node: float('inf') for node in G.nodes}\n",
    "    distances[start] = 0  # Distance to start is 0\n",
    "    visited = set()  # Set of visited nodes\n",
    "    queue = [(0, start)]  # Priority queue (distance, node)\n",
    "    predecessors = {node: None for node in G.nodes}\n",
    "\n",
    "    while queue:\n",
    "        current_distance, current_node = heapq.heappop(queue)\n",
    "\n",
    "        if current_node == goal:\n",
    "            return distances[goal], reconstruct_path(start, goal, predecessors), visited\n",
    "\n",
    "        if current_node in visited:\n",
    "            continue\n",
    "\n",
    "        visited.add(current_node)\n",
    "\n",
    "        for neighbor, weight in successors(current_node):\n",
    "            new_distance = current_distance + weight\n",
    "            if new_distance < distances[neighbor]:\n",
    "                distances[neighbor] = new_distance\n",
    "                predecessors[neighbor] = current_node\n",
    "                heapq.heappush(queue, (new_distance, neighbor))\n",
    "\n",
    "    return float('inf'), []  # No path found\n",
    "\n",
    "\n",
    "def reconstruct_path(start, goal, predecessors):\n",
    "    path = [goal]\n",
    "    while path[-1] != start:\n",
    "        path.append(predecessors[path[-1]])\n",
    "    path.reverse()\n",
    "    return path\n",
    "\n",
    "\n",
    "start, goal = get_start_goal_nodes()\n",
    "\n",
    "print(f\"{start}, {goal}\")\n",
    "\n",
    "dijkstra_cost, dijkstra_path, visited_nodes = dijkstra(start, goal)\n",
    "print(\"Dijkstra Result:\")\n",
    "if dijkstra_cost != float('inf'):\n",
    "    print(f\"Path: {dijkstra_path}\")\n",
    "    print(f\"Cost: {dijkstra_cost}\\n\")\n",
    "else:\n",
    "    print(\"Dijkstra: No solution available for given start and goal\\n\")"
   ]
  },
  {
   "cell_type": "code",
   "execution_count": 11,
   "metadata": {},
   "outputs": [],
   "source": [
    "road_network = vistaLines(*ox.graph_to_gdfs(G))\n",
    "visited_nodes = vistaLines(*ox.graph_to_gdfs(G.subgraph(visited_nodes)))\n",
    "route_path = vistaLines(*ox.graph_to_gdfs(G.subgraph(G.subgraph(dijkstra_path))))\n",
    "start_coords = pv.PolyData(list(list(nodes[nodes['osmid'] == start]['geometry'][start].coords)[0]) + [0])\n",
    "goal_coords = pv.PolyData(list(list(nodes[nodes['osmid'] == goal]['geometry'][goal].coords)[0]) + [0])"
   ]
  },
  {
   "cell_type": "code",
   "execution_count": 12,
   "metadata": {},
   "outputs": [
    {
     "data": {
      "application/vnd.jupyter.widget-view+json": {
       "model_id": "f7ec10ce90ae44b9a6e74fa13f43b2a2",
       "version_major": 2,
       "version_minor": 0
      },
      "text/plain": [
       "Widget(value='<iframe src=\"http://localhost:43269/index.html?ui=P_0x7f064dde28d0_0&reconnect=auto\" class=\"pyvi…"
      ]
     },
     "metadata": {},
     "output_type": "display_data"
    }
   ],
   "source": [
    "# Plot the elevation map\n",
    "plotter = pv.Plotter()\n",
    "plotter.add_mesh(road_network, line_width=1,\n",
    "                 color='blue', label='Road Network')\n",
    "plotter.add_mesh(visited_nodes, line_width=2,\n",
    "                 color='green', label='Visited Nodes')\n",
    "plotter.add_mesh(route_path, line_width=3,\n",
    "                 color='red', label='Dijkstra Path')\n",
    "plotter.add_mesh(start_coords, point_size=20,\n",
    "                 color='black', label='Start')\n",
    "plotter.add_mesh(goal_coords, point_size=20,\n",
    "                 color='purple', label='Goal')\n",
    "plotter.add_legend(bcolor='w', face=None)\n",
    "plotter.show(cpos='xy')"
   ]
  },
  {
   "cell_type": "code",
   "execution_count": null,
   "metadata": {},
   "outputs": [],
   "source": []
  }
 ],
 "metadata": {
  "kernelspec": {
   "display_name": "datascience-dev.guru",
   "language": "python",
   "name": "python3"
  },
  "language_info": {
   "codemirror_mode": {
    "name": "ipython",
    "version": 3
   },
   "file_extension": ".py",
   "mimetype": "text/x-python",
   "name": "python",
   "nbconvert_exporter": "python",
   "pygments_lexer": "ipython3",
   "version": "3.11.7"
  }
 },
 "nbformat": 4,
 "nbformat_minor": 2
}
