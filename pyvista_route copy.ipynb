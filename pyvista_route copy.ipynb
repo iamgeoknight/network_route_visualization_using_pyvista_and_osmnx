{
 "cells": [
  {
   "cell_type": "code",
   "execution_count": 134,
   "metadata": {},
   "outputs": [],
   "source": [
    "import osmnx as ox\n",
    "import pyvista as pv\n",
    "import networkx as nx\n",
    "import numpy as np\n",
    "import random, heapq\n",
    "from functools import lru_cache\n",
    "from collections import OrderedDict\n",
    "\n",
    "# Create a networkx graph from a place\n",
    "place = \"Chandigarh, India\"\n",
    "G = ox.graph_from_place(place, network_type=\"drive\")"
   ]
  },
  {
   "cell_type": "code",
   "execution_count": 135,
   "metadata": {},
   "outputs": [],
   "source": [
    "nodes, edges = ox.graph_to_gdfs(G)\n",
    "lines = []\n",
    "# convert each edge into a line for graph\n",
    "for _, row in edges.iterrows():\n",
    "    x_pts = row['geometry'].xy[0]\n",
    "    y_pts = row['geometry'].xy[1]\n",
    "    z_pts = np.zeros(len(x_pts))\n",
    "    pts = np.column_stack((x_pts, y_pts, z_pts))\n",
    "    line = pv.lines_from_points(pts)\n",
    "    lines.append(line)"
   ]
  },
  {
   "cell_type": "code",
   "execution_count": 136,
   "metadata": {},
   "outputs": [],
   "source": []
  },
  {
   "cell_type": "code",
   "execution_count": 126,
   "metadata": {},
   "outputs": [],
   "source": [
    "combined_lines = lines[0].merge(lines[1:])\n",
    "# combined_lines.plot(line_width=1.5, cpos='xy')"
   ]
  },
  {
   "cell_type": "code",
   "execution_count": 13,
   "metadata": {},
   "outputs": [],
   "source": [
    "def get_start_goal_nodes():\n",
    "    global G\n",
    "    nodes = list(G.nodes)\n",
    "\n",
    "    # Use two random nodes as start and goal (you can replace them with specific nodes if you want)\n",
    "    start = random.choice(nodes)\n",
    "    goal = random.choice(nodes)\n",
    "\n",
    "    # Ensure start and goal nodes are not the same\n",
    "    while start == goal:\n",
    "        goal = random.choice(nodes)\n",
    "\n",
    "    return start, goal\n",
    "\n",
    "\n",
    "@lru_cache(maxsize=None)  # Add caching to the successors function\n",
    "def successors(node):\n",
    "    global G\n",
    "\n",
    "    # Find the neighbors of the current node\n",
    "    neighbors = list(G.neighbors(node))\n",
    "\n",
    "    # Calculate the edge weight and add it as a tuple (neighbor, weight)\n",
    "    successors = [(neighbor, G[node][neighbor][0]['length'])\n",
    "                  for neighbor in neighbors]\n",
    "\n",
    "    return successors\n",
    "\n",
    "\n",
    "@lru_cache(maxsize=None)  # Add caching to the great_circle_distance function\n",
    "def great_circle_distance(p1, p2):\n",
    "    global G\n",
    "    coord1 = G.nodes[p1]['y'], G.nodes[p1]['x']\n",
    "    coord2 = G.nodes[p2]['y'], G.nodes[p2]['x']\n",
    "    return ox.distance.great_circle(*coord1, *coord2)"
   ]
  },
  {
   "cell_type": "code",
   "execution_count": 206,
   "metadata": {},
   "outputs": [
    {
     "name": "stdout",
     "output_type": "stream",
     "text": [
      "1428213113, 1431135549\n",
      "Dijkstra Result:\n",
      "Path: [1428213113, 1428213109, 1428213212, 1428213222, 1428213250, 1428213295, 1428213301, 1428213340, 1428213420, 1428213464, 1428213470, 1428213490, 1428213494, 1428213542, 1428213560, 1428213590, 1428213586, 1429260167, 1429141339, 1429141349, 1429260385, 1429260422, 1429260892, 1429260912, 1429260916, 1429260950, 6473425816, 1429141397, 1429141405, 1429141408, 1429141411, 1429141417, 10166264951, 1429261108, 1429261124, 1429261140, 1429261171, 1429261190, 1429261205, 1429261215, 6883935450, 1429261244, 1429261272, 1429261281, 1429261308, 1429261410, 1429261424, 1429261513, 1429261579, 1429261647, 1429261689, 1429261736, 1429380148, 1429141563, 1429141566, 1429141585, 1429141607, 1429262257, 10230398020, 1429141813, 1429141821, 1429141850, 1429141888, 10653480131, 1429142110, 1429078345, 1429078403, 1429078407, 1429078445, 1429078473, 1429078549, 1429078587, 9444013025, 1429078911, 1429078939, 1429078945, 1429078956, 1429078969, 1429078999, 1429079012, 9700416947, 1428425833, 10230684664, 1428425858, 1428425861, 10593362356, 1428425884, 1429027953, 1428425890, 1428425894, 1428425901, 1428425898, 1431135418, 1431135422, 1431135436, 1431135453, 1431135508, 1431135530, 1431135542, 1431135549]\n",
      "Cost: 7647.346\n",
      "\n"
     ]
    }
   ],
   "source": [
    "\n",
    "def dijkstra(start, goal):\n",
    "    # Initialize variables\n",
    "    # Distances from start to each node\n",
    "    distances = {node: float('inf') for node in G.nodes}\n",
    "    distances[start] = 0  # Distance to start is 0\n",
    "    visited = set()  # Set of visited nodes\n",
    "    queue = [(0, start)]  # Priority queue (distance, node)\n",
    "    predecessors = {node: None for node in G.nodes}\n",
    "\n",
    "    while queue:\n",
    "        current_distance, current_node = heapq.heappop(queue)\n",
    "\n",
    "        if current_node == goal:\n",
    "            return distances[goal], reconstruct_path(start, goal, predecessors), visited\n",
    "\n",
    "        if current_node in visited:\n",
    "            continue\n",
    "\n",
    "        visited.add(current_node)\n",
    "\n",
    "        for neighbor, weight in successors(current_node):\n",
    "            new_distance = current_distance + weight\n",
    "            if new_distance < distances[neighbor]:\n",
    "                distances[neighbor] = new_distance\n",
    "                predecessors[neighbor] = current_node\n",
    "                heapq.heappush(queue, (new_distance, neighbor))\n",
    "\n",
    "    return float('inf'), []  # No path found\n",
    "\n",
    "\n",
    "def reconstruct_path(start, goal, predecessors):\n",
    "    path = [goal]\n",
    "    while path[-1] != start:\n",
    "        path.append(predecessors[path[-1]])\n",
    "    path.reverse()\n",
    "    return path\n",
    "\n",
    "\n",
    "start, goal = get_start_goal_nodes()\n",
    "\n",
    "print(f\"{start}, {goal}\")\n",
    "\n",
    "dijkstra_cost, dijkstra_path, visited_nodes = dijkstra(start, goal)\n",
    "print(\"Dijkstra Result:\")\n",
    "if dijkstra_cost != float('inf'):\n",
    "    print(f\"Path: {dijkstra_path}\")\n",
    "    print(f\"Cost: {dijkstra_cost}\\n\")\n",
    "else:\n",
    "    print(\"Dijkstra: No solution available for given start and goal\\n\")"
   ]
  },
  {
   "cell_type": "code",
   "execution_count": 207,
   "metadata": {},
   "outputs": [
    {
     "data": {
      "text/plain": [
       "(9011, 12262)"
      ]
     },
     "execution_count": 207,
     "metadata": {},
     "output_type": "execute_result"
    }
   ],
   "source": [
    "len(visited_nodes), len(nodes)"
   ]
  },
  {
   "cell_type": "code",
   "execution_count": 208,
   "metadata": {},
   "outputs": [
    {
     "data": {
      "text/plain": [
       "<networkx.classes.multidigraph.MultiDiGraph at 0x7fb994e9f410>"
      ]
     },
     "execution_count": 208,
     "metadata": {},
     "output_type": "execute_result"
    }
   ],
   "source": [
    "G.subgraph(dijkstra_path)"
   ]
  },
  {
   "cell_type": "code",
   "execution_count": 209,
   "metadata": {},
   "outputs": [
    {
     "data": {
      "text/plain": [
       "<networkx.classes.multidigraph.MultiDiGraph at 0x7fb98e5243d0>"
      ]
     },
     "execution_count": 209,
     "metadata": {},
     "output_type": "execute_result"
    }
   ],
   "source": [
    "G.subgraph(visited_nodes)"
   ]
  },
  {
   "cell_type": "code",
   "execution_count": 211,
   "metadata": {},
   "outputs": [],
   "source": [
    "nodes, edges = ox.graph_to_gdfs(G.subgraph(visited_nodes))\n",
    "visited_lines = []\n",
    "# convert each edge into a line for graph\n",
    "for _, row in edges.iterrows():\n",
    "    x_pts = row['geometry'].xy[0]\n",
    "    y_pts = row['geometry'].xy[1]\n",
    "    z_pts = np.zeros(len(x_pts))\n",
    "    pts = np.column_stack((x_pts, y_pts, 0.000001))\n",
    "    line = pv.lines_from_points(pts)\n",
    "    visited_lines.append(line)"
   ]
  },
  {
   "cell_type": "code",
   "execution_count": 212,
   "metadata": {},
   "outputs": [],
   "source": [
    "nodes, edges = ox.graph_to_gdfs(G.subgraph(G.subgraph(dijkstra_path)))\n",
    "path_lines = []\n",
    "# convert each edge into a line for graph\n",
    "for _, row in edges.iterrows():\n",
    "    x_pts = row['geometry'].xy[0]\n",
    "    y_pts = row['geometry'].xy[1]\n",
    "    z_pts = np.zeros(len(x_pts))\n",
    "    pts = np.column_stack((x_pts, y_pts, 0.000002))\n",
    "    line = pv.lines_from_points(pts)\n",
    "    path_lines.append(line)"
   ]
  },
  {
   "cell_type": "code",
   "execution_count": 1,
   "metadata": {},
   "outputs": [
    {
     "ename": "NameError",
     "evalue": "name 'pv' is not defined",
     "output_type": "error",
     "traceback": [
      "\u001b[0;31m---------------------------------------------------------------------------\u001b[0m",
      "\u001b[0;31mNameError\u001b[0m                                 Traceback (most recent call last)",
      "\u001b[1;32m/home/geoknight/Desktop/Learning/Python/Routing/pyvista_route copy.ipynb Cell 12\u001b[0m line \u001b[0;36m2\n\u001b[1;32m      <a href='vscode-notebook-cell:/home/geoknight/Desktop/Learning/Python/Routing/pyvista_route%20copy.ipynb#X45sZmlsZQ%3D%3D?line=0'>1</a>\u001b[0m \u001b[39m# Plot the elevation map\u001b[39;00m\n\u001b[0;32m----> <a href='vscode-notebook-cell:/home/geoknight/Desktop/Learning/Python/Routing/pyvista_route%20copy.ipynb#X45sZmlsZQ%3D%3D?line=1'>2</a>\u001b[0m plotter \u001b[39m=\u001b[39m pv\u001b[39m.\u001b[39mPlotter()\n\u001b[1;32m      <a href='vscode-notebook-cell:/home/geoknight/Desktop/Learning/Python/Routing/pyvista_route%20copy.ipynb#X45sZmlsZQ%3D%3D?line=2'>3</a>\u001b[0m plotter\u001b[39m.\u001b[39madd_mesh(lines[\u001b[39m0\u001b[39m]\u001b[39m.\u001b[39mmerge(lines[\u001b[39m1\u001b[39m:]), line_width\u001b[39m=\u001b[39m\u001b[39m1\u001b[39m,\n\u001b[1;32m      <a href='vscode-notebook-cell:/home/geoknight/Desktop/Learning/Python/Routing/pyvista_route%20copy.ipynb#X45sZmlsZQ%3D%3D?line=3'>4</a>\u001b[0m                  color\u001b[39m=\u001b[39m\u001b[39m'\u001b[39m\u001b[39mblue\u001b[39m\u001b[39m'\u001b[39m, label\u001b[39m=\u001b[39m\u001b[39m'\u001b[39m\u001b[39mRoad Network\u001b[39m\u001b[39m'\u001b[39m)\n\u001b[1;32m      <a href='vscode-notebook-cell:/home/geoknight/Desktop/Learning/Python/Routing/pyvista_route%20copy.ipynb#X45sZmlsZQ%3D%3D?line=4'>5</a>\u001b[0m plotter\u001b[39m.\u001b[39madd_mesh(visited_lines[\u001b[39m0\u001b[39m]\u001b[39m.\u001b[39mmerge(visited_lines[\u001b[39m1\u001b[39m:]), line_width\u001b[39m=\u001b[39m\u001b[39m2\u001b[39m,\n\u001b[1;32m      <a href='vscode-notebook-cell:/home/geoknight/Desktop/Learning/Python/Routing/pyvista_route%20copy.ipynb#X45sZmlsZQ%3D%3D?line=5'>6</a>\u001b[0m                  color\u001b[39m=\u001b[39m\u001b[39m'\u001b[39m\u001b[39mgreen\u001b[39m\u001b[39m'\u001b[39m, label\u001b[39m=\u001b[39m\u001b[39m'\u001b[39m\u001b[39mVisited Nodes\u001b[39m\u001b[39m'\u001b[39m)\n",
      "\u001b[0;31mNameError\u001b[0m: name 'pv' is not defined"
     ]
    }
   ],
   "source": [
    "# Plot the elevation map\n",
    "plotter = pv.Plotter()\n",
    "plotter.add_mesh(lines[0].merge(lines[1:]), line_width=1,\n",
    "                 color='blue', label='Road Network')\n",
    "plotter.add_mesh(visited_lines[0].merge(visited_lines[1:]), line_width=2,\n",
    "                 color='green', label='Visited Nodes')\n",
    "plotter.add_mesh(path_lines[0].merge(path_lines[1:]), line_width=3,\n",
    "                 color='red', label='Path', pbr=True)\n",
    "\n",
    "plotter.show(cpos='xy')"
   ]
  },
  {
   "cell_type": "code",
   "execution_count": null,
   "metadata": {},
   "outputs": [],
   "source": []
  }
 ],
 "metadata": {
  "kernelspec": {
   "display_name": "datascience-dev.guru",
   "language": "python",
   "name": "python3"
  },
  "language_info": {
   "codemirror_mode": {
    "name": "ipython",
    "version": 3
   },
   "file_extension": ".py",
   "mimetype": "text/x-python",
   "name": "python",
   "nbconvert_exporter": "python",
   "pygments_lexer": "ipython3",
   "version": "3.11.7"
  }
 },
 "nbformat": 4,
 "nbformat_minor": 2
}
